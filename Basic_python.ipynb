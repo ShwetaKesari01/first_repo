{
 "cells": [
  {
   "cell_type": "code",
   "execution_count": 1,
   "metadata": {},
   "outputs": [
    {
     "name": "stdout",
     "output_type": "stream",
     "text": [
      "25\n",
      "25\n"
     ]
    }
   ],
   "source": [
    "age = 32\n",
    "\n",
    "if age>30:\n",
    "    age = 25   # python ignore this\n",
    "    print(age)\n",
    "    \n",
    "print(age)\n"
   ]
  },
  {
   "cell_type": "code",
   "execution_count": 2,
   "metadata": {},
   "outputs": [
    {
     "name": "stdout",
     "output_type": "stream",
     "text": [
      "15\n"
     ]
    }
   ],
   "source": [
    "total = 1+2+3+4+5\n",
    "print(total)"
   ]
  },
  {
   "cell_type": "code",
   "execution_count": 3,
   "metadata": {},
   "outputs": [
    {
     "name": "stdout",
     "output_type": "stream",
     "text": [
      "18\n"
     ]
    }
   ],
   "source": [
    "total = 1+2+3+4+5\\\n",
    "    +3\n",
    "print(total)"
   ]
  },
  {
   "cell_type": "code",
   "execution_count": 4,
   "metadata": {},
   "outputs": [
    {
     "name": "stdout",
     "output_type": "stream",
     "text": [
      "15\n"
     ]
    }
   ],
   "source": [
    "x=5;y=10;z=x+y\n",
    "print(z)"
   ]
  },
  {
   "cell_type": "code",
   "execution_count": 5,
   "metadata": {},
   "outputs": [
    {
     "name": "stdout",
     "output_type": "stream",
     "text": [
      "20\n"
     ]
    }
   ],
   "source": [
    "a=10;b=10;c=a+b\n",
    "print(c)"
   ]
  },
  {
   "cell_type": "code",
   "execution_count": 6,
   "metadata": {},
   "outputs": [
    {
     "name": "stdout",
     "output_type": "stream",
     "text": [
      "50\n"
     ]
    }
   ],
   "source": [
    "a=20;b=10;c=10;d=20;e=-10\n",
    "f=a+b+c+d+e\n",
    "print(f)"
   ]
  },
  {
   "cell_type": "code",
   "execution_count": 7,
   "metadata": {},
   "outputs": [
    {
     "name": "stdout",
     "output_type": "stream",
     "text": [
      "five is greater than two\n"
     ]
    }
   ],
   "source": [
    "\n",
    "if 5>2:\n",
    "    print(\"five is greater than two\")\n",
    "else:\n",
    "    print(\"five is not greater than two\")\n"
   ]
  },
  {
   "cell_type": "code",
   "execution_count": 12,
   "metadata": {},
   "outputs": [
    {
     "name": "stdout",
     "output_type": "stream",
     "text": [
      "x = 5\n",
      "x is greater than two\n"
     ]
    }
   ],
   "source": [
    "x = int(input())\n",
    "\n",
    "print(\"x =\",x)\n",
    "if x>2:\n",
    "    print(\"x is greater than two\")\n",
    "else:\n",
    "    print(\"x is not greater than two\")\n",
    "\n"
   ]
  },
  {
   "cell_type": "code",
   "execution_count": 13,
   "metadata": {},
   "outputs": [
    {
     "name": "stdout",
     "output_type": "stream",
     "text": [
      "name Lily\n",
      "age 16\n",
      "height 152cm\n",
      "is_student True\n"
     ]
    }
   ],
   "source": [
    "name = 'Lily'\n",
    "age = 16\n",
    "\n",
    "height = '152cm'\n",
    "is_student = True\n",
    "\n",
    "print('name',name)\n",
    "print('age',age)\n",
    "print('height',height)\n",
    "print('is_student',is_student)\n"
   ]
  },
  {
   "cell_type": "code",
   "execution_count": 15,
   "metadata": {},
   "outputs": [
    {
     "name": "stdout",
     "output_type": "stream",
     "text": [
      "<class 'int'>\n",
      "<class 'str'>\n",
      "<class 'float'>\n",
      "True\n"
     ]
    }
   ],
   "source": [
    "age = 14\n",
    "print(type(age))\n",
    "\n",
    "str_age = str(age)\n",
    "print(type(str_age))\n",
    "\n",
    "float_age = float(age)\n",
    "print(type(float_age))\n",
    "\n",
    "bool_age = bool(age)\n",
    "print(bool_age)"
   ]
  },
  {
   "cell_type": "code",
   "execution_count": 16,
   "metadata": {},
   "outputs": [
    {
     "name": "stdout",
     "output_type": "stream",
     "text": [
      "num1= 5\n",
      "num2= 10\n",
      "15\n",
      "-5\n",
      "50\n",
      "0.5\n"
     ]
    }
   ],
   "source": [
    "# simple calculater\n",
    "\n",
    "num1= int(input(\"enter the first num\"))\n",
    "num2= int(input(\"enter the second num\"))\n",
    "\n",
    "print(\"num1=\",num1)\n",
    "print(\"num2=\",num2)\n",
    "\n",
    "\n",
    "sum = num1+num2\n",
    "print(sum)\n",
    "\n",
    "subtraction = num1 - num2\n",
    "print(subtraction)\n",
    "\n",
    "product = num1* num2\n",
    "print(product)\n",
    "\n",
    "quatient = num1 /  num2\n",
    "print(quatient)\n",
    "\n",
    "\n",
    "\n"
   ]
  },
  {
   "cell_type": "code",
   "execution_count": 17,
   "metadata": {},
   "outputs": [
    {
     "name": "stdout",
     "output_type": "stream",
     "text": [
      "True\n"
     ]
    },
    {
     "data": {
      "text/plain": [
       "bool"
      ]
     },
     "execution_count": 17,
     "metadata": {},
     "output_type": "execute_result"
    }
   ],
   "source": [
    "a=10\n",
    "b=10\n",
    "\n",
    "print(a==b)\n",
    "type(a==b)\n"
   ]
  },
  {
   "cell_type": "code",
   "execution_count": 18,
   "metadata": {},
   "outputs": [
    {
     "name": "stdout",
     "output_type": "stream",
     "text": [
      "0\n"
     ]
    }
   ],
   "source": [
    "x = 10%2\n",
    "print(x)"
   ]
  },
  {
   "cell_type": "code",
   "execution_count": 19,
   "metadata": {},
   "outputs": [
    {
     "name": "stdout",
     "output_type": "stream",
     "text": [
      "2\n",
      "0\n",
      "100000\n"
     ]
    }
   ],
   "source": [
    "a= 10\n",
    "b = 5\n",
    "\n",
    "floor_division = a//b\n",
    "print(floor_division)  # Output: 2\n",
    "\n",
    "\n",
    "modulo = a%b\n",
    "print(modulo)\n",
    "\n",
    "Exception = a**b\n",
    "print(Exception)  # Output: 2500\n"
   ]
  },
  {
   "cell_type": "code",
   "execution_count": 20,
   "metadata": {},
   "outputs": [
    {
     "data": {
      "text/plain": [
       "True"
      ]
     },
     "execution_count": 20,
     "metadata": {},
     "output_type": "execute_result"
    }
   ],
   "source": [
    "a = 10\n",
    "b = 10\n",
    "\n",
    "a==b"
   ]
  },
  {
   "cell_type": "code",
   "execution_count": 21,
   "metadata": {},
   "outputs": [
    {
     "data": {
      "text/plain": [
       "False"
      ]
     },
     "execution_count": 21,
     "metadata": {},
     "output_type": "execute_result"
    }
   ],
   "source": [
    "x = 5\n",
    "y =10\n",
    "x==y"
   ]
  },
  {
   "cell_type": "code",
   "execution_count": 22,
   "metadata": {},
   "outputs": [
    {
     "data": {
      "text/plain": [
       "True"
      ]
     },
     "execution_count": 22,
     "metadata": {},
     "output_type": "execute_result"
    }
   ],
   "source": [
    "str = \"Shweta\"\n",
    "str2 = \"Shweta\"\n",
    "\n",
    "str == str2"
   ]
  },
  {
   "cell_type": "code",
   "execution_count": 23,
   "metadata": {},
   "outputs": [
    {
     "data": {
      "text/plain": [
       "False"
      ]
     },
     "execution_count": 23,
     "metadata": {},
     "output_type": "execute_result"
    }
   ],
   "source": [
    "str = \"Shweta\"\n",
    "str2 = \"shweta\"\n",
    "\n",
    "str==str2"
   ]
  },
  {
   "cell_type": "code",
   "execution_count": 24,
   "metadata": {},
   "outputs": [
    {
     "data": {
      "text/plain": [
       "True"
      ]
     },
     "execution_count": 24,
     "metadata": {},
     "output_type": "execute_result"
    }
   ],
   "source": [
    "100>10"
   ]
  },
  {
   "cell_type": "code",
   "execution_count": 25,
   "metadata": {},
   "outputs": [
    {
     "data": {
      "text/plain": [
       "True"
      ]
     },
     "execution_count": 25,
     "metadata": {},
     "output_type": "execute_result"
    }
   ],
   "source": [
    "x = 20\n",
    "y = 5\n",
    "\n",
    "x>y\n"
   ]
  },
  {
   "cell_type": "code",
   "execution_count": 26,
   "metadata": {},
   "outputs": [
    {
     "data": {
      "text/plain": [
       "True"
      ]
     },
     "execution_count": 26,
     "metadata": {},
     "output_type": "execute_result"
    }
   ],
   "source": [
    "x = 20\n",
    "y = 5\n",
    "\n",
    "x!=y"
   ]
  },
  {
   "cell_type": "code",
   "execution_count": 27,
   "metadata": {},
   "outputs": [
    {
     "name": "stdout",
     "output_type": "stream",
     "text": [
      "True\n",
      "False\n",
      "And operator= True\n",
      "OR operator= True\n",
      "not operator (a)= False\n",
      "not operator (b)= False\n"
     ]
    }
   ],
   "source": [
    "# And,OR,not\n",
    "\n",
    "a = True\n",
    "b = True\n",
    "\n",
    "print(a==b)\n",
    "print(a!=b)\n",
    "\n",
    "print('And operator=' , a and b)\n",
    "\n",
    "print('OR operator=',a or b)\n",
    "\n",
    "print('not operator (a)=',not a)  # it oposite the result\n",
    "print('not operator (b)=',not b)\n"
   ]
  },
  {
   "cell_type": "code",
   "execution_count": 28,
   "metadata": {},
   "outputs": [
    {
     "name": "stdout",
     "output_type": "stream",
     "text": [
      "you are minor\n"
     ]
    }
   ],
   "source": [
    "age = 5\n",
    "\n",
    "if 80>=age>=18:\n",
    "    print(\"Yo can vote\")\n",
    "elif age <18:\n",
    "    print(\"you are minor\")\n",
    "else:\n",
    "    print(\"Invalid age\")\n"
   ]
  },
  {
   "cell_type": "code",
   "execution_count": 29,
   "metadata": {},
   "outputs": [
    {
     "name": "stdout",
     "output_type": "stream",
     "text": [
      "number is odd\n"
     ]
    }
   ],
   "source": [
    "n = int(input())\n",
    "\n",
    "if n>0:\n",
    "    if n%2==0:\n",
    "        print(\"number is even\")\n",
    "    else:\n",
    "        print(\"number is odd\")\n",
    "else:\n",
    "    print(\"number is zero or negative\")"
   ]
  },
  {
   "cell_type": "code",
   "execution_count": 31,
   "metadata": {},
   "outputs": [
    {
     "name": "stdout",
     "output_type": "stream",
     "text": [
      "year= 2021\n",
      "this year is not a leap year\n"
     ]
    }
   ],
   "source": [
    "year = 2021\n",
    "\n",
    "print(\"year=\",year)\n",
    "if year%4==0:\n",
    "    if year%100==0:\n",
    "        if year%400==0:\n",
    "            print(\"this year is a leap year\")\n",
    "        else:\n",
    "            print(\"this year is not a leap year\")\n",
    "    else:\n",
    "        print(\"this year is not a leap year\")\n",
    "else: \n",
    "    print(\"this year is not a leap year\")\n"
   ]
  },
  {
   "cell_type": "code",
   "execution_count": 33,
   "metadata": {},
   "outputs": [
    {
     "name": "stdout",
     "output_type": "stream",
     "text": [
      "num1 10\n",
      "num2 5\n",
      "operation +\n",
      "Result is :  15\n"
     ]
    }
   ],
   "source": [
    "num1= int(input(\"enter first number\"))\n",
    "num2= int(input(\"enter second number\"))\n",
    "operation = input(\"enter operation, +,-,*,/,//,%,**\")\n",
    "\n",
    "print(\"num1\", num1)\n",
    "print(\"num2\", num2)\n",
    "print(\"operation\", operation)\n",
    "\n",
    "\n",
    "if operation == '+':\n",
    "    result = num1+num2\n",
    "elif operation == '-':\n",
    "    result = num1-num2\n",
    "elif operation == '*':\n",
    "    result = num1*num2\n",
    "elif operation == '/':\n",
    "    result = num1/num2\n",
    "elif operation == '//':\n",
    "    result = num1//num2\n",
    "elif operation =='%':\n",
    "    result = num1%num2\n",
    "elif operation == '**':\n",
    "    result = num1**num2\n",
    "else:\n",
    "    print(\"invalid operation\")\n",
    "\n",
    "print(\"Result is : \", result)\n"
   ]
  },
  {
   "cell_type": "code",
   "execution_count": 34,
   "metadata": {},
   "outputs": [
    {
     "name": "stdout",
     "output_type": "stream",
     "text": [
      "my name is Shweta  I am a software engineer I love coding\n"
     ]
    }
   ],
   "source": [
    "name = \"my name is Shweta \"\n",
    "\n",
    "result = name + \" \" + \"I am a software engineer\" + \" \" + \"I love coding\" \n",
    "\n",
    "print(result)"
   ]
  },
  {
   "cell_type": "code",
   "execution_count": 35,
   "metadata": {},
   "outputs": [
    {
     "name": "stdout",
     "output_type": "stream",
     "text": [
      "25\n"
     ]
    }
   ],
   "source": [
    "result = 5*5\n",
    "print(result)  # Output: 25"
   ]
  },
  {
   "cell_type": "code",
   "execution_count": 48,
   "metadata": {},
   "outputs": [
    {
     "name": "stdout",
     "output_type": "stream",
     "text": [
      "age = 15 years \n",
      "is_student = no\n",
      "age is 15 years and ticket price is : 20$\n"
     ]
    }
   ],
   "source": [
    "#  finding the ticket price as per Age and student status.\n",
    "\n",
    "\n",
    "age = int(input())\n",
    "is_student = input(\"yes/no\").lower()\n",
    "\n",
    "\n",
    "print(f\"age = {age} years \\nis_student = {is_student}\")\n",
    "if age<5:\n",
    "    price = \"free\"\n",
    "elif age<=12:\n",
    "        price = \"12$\"\n",
    "elif age <=18:\n",
    "    if is_student ==\"yes\":\n",
    "        price = \"15$\"\n",
    "    else:\n",
    "        price = \"20$\"\n",
    "elif age <=65:\n",
    "    if is_student == \"yes\":\n",
    "        price = \"25$\"\n",
    "    else:\n",
    "        print(\"20$, for rest member\")\n",
    "\n",
    "print(\"age is\", age,\"years\", \"and ticket price is :\",  price)"
   ]
  },
  {
   "cell_type": "code",
   "execution_count": 91,
   "metadata": {},
   "outputs": [
    {
     "name": "stdout",
     "output_type": "stream",
     "text": [
      "s\n",
      "-\n",
      "h\n",
      "-\n",
      "w\n",
      "-\n",
      "e\n",
      "-\n",
      "t\n",
      "-\n",
      "a\n",
      "-\n",
      " \n",
      "-\n",
      "k\n",
      "-\n",
      "e\n",
      "-\n",
      "s\n",
      "-\n",
      "a\n",
      "-\n",
      "r\n",
      "-\n",
      "i\n",
      "-\n"
     ]
    }
   ],
   "source": [
    "# for loop on string \n",
    "\n",
    "name = \"shweta kesari\"\n",
    "\n",
    "for i in name:\n",
    "    print(i)\n",
    "    print(\"-\")\n",
    "\n"
   ]
  },
  {
   "cell_type": "code",
   "execution_count": 50,
   "metadata": {},
   "outputs": [
    {
     "name": "stdout",
     "output_type": "stream",
     "text": [
      "0\n",
      "1\n",
      "2\n",
      "3\n",
      "4\n",
      "5\n",
      "6\n",
      "7\n",
      "8\n",
      "9\n",
      "10\n"
     ]
    }
   ],
   "source": [
    "# simple while loop\n",
    "count = 0\n",
    "\n",
    "while count <=10 :\n",
    "    print(count)\n",
    "    count = count+1"
   ]
  },
  {
   "cell_type": "code",
   "execution_count": 51,
   "metadata": {},
   "outputs": [
    {
     "name": "stdout",
     "output_type": "stream",
     "text": [
      "0\n",
      "2\n",
      "4\n",
      "6\n",
      "8\n",
      "10\n",
      "12\n",
      "14\n",
      "16\n",
      "18\n",
      "20\n"
     ]
    }
   ],
   "source": [
    "# while loop on range \n",
    "\n",
    "range = 0\n",
    "\n",
    "while range<=20:\n",
    "    print(range)\n",
    "    range= range+2"
   ]
  },
  {
   "cell_type": "code",
   "execution_count": 64,
   "metadata": {},
   "outputs": [
    {
     "name": "stdout",
     "output_type": "stream",
     "text": [
      "no\n"
     ]
    }
   ],
   "source": [
    "#  while loop with checking divisibility of number\n",
    "num = 21\n",
    "while num%2==0:\n",
    "    print(\"yes\")\n",
    "    break\n",
    "\n",
    "while num%2 !=0:\n",
    "    print(\"no\")\n",
    "    break\n"
   ]
  },
  {
   "cell_type": "code",
   "execution_count": 65,
   "metadata": {},
   "outputs": [
    {
     "name": "stdout",
     "output_type": "stream",
     "text": [
      "no\n"
     ]
    }
   ],
   "source": [
    "num = 11\n",
    "if num%2==0:\n",
    "    print(\"yes\")\n",
    "else:\n",
    "    print(\"no\")"
   ]
  },
  {
   "cell_type": "code",
   "execution_count": 3,
   "metadata": {},
   "outputs": [
    {
     "name": "stdout",
     "output_type": "stream",
     "text": [
      "<class 'int'>\n"
     ]
    }
   ],
   "source": [
    "print(type(i))\n",
    "\n",
    "\n"
   ]
  },
  {
   "cell_type": "code",
   "execution_count": 4,
   "metadata": {},
   "outputs": [
    {
     "name": "stdout",
     "output_type": "stream",
     "text": [
      "1\n",
      "3\n",
      "5\n",
      "7\n",
      "9\n"
     ]
    }
   ],
   "source": [
    "#  for loop with condition\n",
    "\n",
    "for i in range(10):\n",
    "\n",
    "    if i%2==0:\n",
    "        continue\n",
    "    print(i)\n",
    "\n"
   ]
  },
  {
   "cell_type": "code",
   "execution_count": 5,
   "metadata": {},
   "outputs": [
    {
     "name": "stdout",
     "output_type": "stream",
     "text": [
      "0\n",
      "1\n",
      "2\n",
      "3\n",
      "4\n"
     ]
    }
   ],
   "source": [
    "for i in range(5):\n",
    "    if i ==2:\n",
    "        pass\n",
    "    print(i)"
   ]
  },
  {
   "cell_type": "code",
   "execution_count": 6,
   "metadata": {},
   "outputs": [
    {
     "name": "stdout",
     "output_type": "stream",
     "text": [
      "0\n",
      "1\n",
      "3\n",
      "4\n"
     ]
    }
   ],
   "source": [
    "for i in range(5):\n",
    "    if i ==2:\n",
    "        continue\n",
    "    print(i)"
   ]
  },
  {
   "cell_type": "code",
   "execution_count": 7,
   "metadata": {},
   "outputs": [
    {
     "name": "stdout",
     "output_type": "stream",
     "text": [
      "0\n",
      "1\n"
     ]
    }
   ],
   "source": [
    "for i in range(5):\n",
    "    if i ==2:\n",
    "        break\n",
    "    print(i)"
   ]
  },
  {
   "cell_type": "code",
   "execution_count": 8,
   "metadata": {},
   "outputs": [
    {
     "name": "stdout",
     "output_type": "stream",
     "text": [
      "i 0 x 0\n",
      "i 0 x 1\n",
      "i 1 x 0\n",
      "i 1 x 1\n",
      "i 2 x 0\n",
      "i 2 x 1\n"
     ]
    }
   ],
   "source": [
    "#  nested loop\n",
    "\n",
    "for i in range(3):\n",
    "    for x in range(2):\n",
    "        print(\"i\", i, \"x\", x)"
   ]
  },
  {
   "cell_type": "code",
   "execution_count": 29,
   "metadata": {},
   "outputs": [
    {
     "name": "stdout",
     "output_type": "stream",
     "text": [
      "jacob jakson\n",
      "williem jakson\n",
      "Ammy jakson\n"
     ]
    }
   ],
   "source": [
    "name = (\"jacob\", \"williem\", \"Ammy\")\n",
    "surname = (\"jakson\")\n",
    "\n",
    "for i in name:\n",
    "    print(i, surname)\n"
   ]
  },
  {
   "cell_type": "code",
   "execution_count": 1,
   "metadata": {},
   "outputs": [
    {
     "name": "stdout",
     "output_type": "stream",
     "text": [
      "jacob jakson\n",
      "jacob smith\n",
      "jacob doe\n",
      "williem jakson\n",
      "williem smith\n",
      "williem doe\n",
      "Ammy jakson\n",
      "Ammy smith\n",
      "Ammy doe\n"
     ]
    }
   ],
   "source": [
    "#  nested loop\n",
    "\n",
    "name = (\"jacob\", \"williem\", \"Ammy\")\n",
    "surname = (\"jakson\", \"smith\", \"doe\")\n",
    "\n",
    "for i in name:\n",
    "    for x in surname:\n",
    "        print(i, x)\n"
   ]
  },
  {
   "cell_type": "code",
   "execution_count": 30,
   "metadata": {},
   "outputs": [
    {
     "name": "stdout",
     "output_type": "stream",
     "text": [
      "55\n"
     ]
    }
   ],
   "source": [
    "#  while loop with a condition\n",
    "total = 10\n",
    "sum = 0\n",
    "count= 1\n",
    "\n",
    "while count<=total:\n",
    "    sum = sum+ count\n",
    "    count=count+1\n",
    "print(sum)"
   ]
  },
  {
   "cell_type": "code",
   "execution_count": 2,
   "metadata": {},
   "outputs": [
    {
     "name": "stdout",
     "output_type": "stream",
     "text": [
      "Good morning, everyone. \n",
      "My name is Leena, and I was born and raised in the UK. \n",
      "I hold a graduate degree in Psychology and Human Behavior and am currently pursuing my PhD in the same field. \n",
      "I am deeply passionate about understanding psychology and exploring human nature, \n",
      "and I strive to continuously expand my knowledge in these areas. As a dedicated learner, \n",
      "I am committed to advancing my expertise and contributing to the field of psychology through research and study..\n"
     ]
    }
   ],
   "source": [
    "intro = \"\"\"Good morning, everyone. \n",
    "My name is Leena, and I was born and raised in the UK. \n",
    "I hold a graduate degree in Psychology and Human Behavior and am currently pursuing my PhD in the same field. \n",
    "I am deeply passionate about understanding psychology and exploring human nature, \n",
    "and I strive to continuously expand my knowledge in these areas. As a dedicated learner, \n",
    "I am committed to advancing my expertise and contributing to the field of psychology through research and study..\"\"\"\n",
    "\n",
    "print(intro)"
   ]
  },
  {
   "cell_type": "code",
   "execution_count": 3,
   "metadata": {},
   "outputs": [
    {
     "name": "stdout",
     "output_type": "stream",
     "text": [
      "True\n"
     ]
    }
   ],
   "source": [
    "print(\"Leena\" in intro)"
   ]
  },
  {
   "cell_type": "code",
   "execution_count": 4,
   "metadata": {},
   "outputs": [
    {
     "name": "stdout",
     "output_type": "stream",
     "text": [
      "True\n"
     ]
    }
   ],
   "source": [
    "x = \"Leena\" in intro\n",
    "\n",
    "print(x)"
   ]
  },
  {
   "cell_type": "code",
   "execution_count": 5,
   "metadata": {},
   "outputs": [
    {
     "name": "stdout",
     "output_type": "stream",
     "text": [
      "yes\n"
     ]
    }
   ],
   "source": [
    "if \"name\" in intro:\n",
    "    print(\"yes\")"
   ]
  },
  {
   "cell_type": "code",
   "execution_count": 8,
   "metadata": {},
   "outputs": [
    {
     "name": "stdout",
     "output_type": "stream",
     "text": [
      "False\n"
     ]
    },
    {
     "data": {
      "text/plain": [
       "True"
      ]
     },
     "execution_count": 8,
     "metadata": {},
     "output_type": "execute_result"
    }
   ],
   "source": [
    "print(\"name\" not in intro)\n",
    "\n",
    "\"expensive\" not in intro\n"
   ]
  },
  {
   "cell_type": "code",
   "execution_count": 9,
   "metadata": {},
   "outputs": [
    {
     "name": "stdout",
     "output_type": "stream",
     "text": [
      "true\n"
     ]
    }
   ],
   "source": [
    "if \"expensive\" not in intro:\n",
    "    print(\"true\")\n",
    "else:\n",
    "    print(\"false\")"
   ]
  },
  {
   "cell_type": "code",
   "execution_count": 10,
   "metadata": {},
   "outputs": [
    {
     "name": "stdout",
     "output_type": "stream",
     "text": [
      "true\n"
     ]
    }
   ],
   "source": [
    "if \" hi \" not in intro:\n",
    "    print(\"true\")\n",
    "else:\n",
    "    print(\"false\")"
   ]
  },
  {
   "cell_type": "code",
   "execution_count": 17,
   "metadata": {},
   "outputs": [
    {
     "name": "stdout",
     "output_type": "stream",
     "text": [
      "worl\n"
     ]
    }
   ],
   "source": [
    "\n",
    "x = \"hello, world!\"\n",
    "\n",
    "print(x[-6:-2])"
   ]
  },
  {
   "cell_type": "code",
   "execution_count": 12,
   "metadata": {},
   "outputs": [
    {
     "name": "stdout",
     "output_type": "stream",
     "text": [
      "hello, world!\n"
     ]
    }
   ],
   "source": [
    "x = \"hello, world!\"\n",
    "print(x.strip())"
   ]
  },
  {
   "cell_type": "code",
   "execution_count": 13,
   "metadata": {},
   "outputs": [
    {
     "name": "stdout",
     "output_type": "stream",
     "text": [
      "['hello,', 'world!']\n"
     ]
    }
   ],
   "source": [
    "x = \"hello, world!\"\n",
    "print(x.split())"
   ]
  },
  {
   "cell_type": "code",
   "execution_count": 19,
   "metadata": {},
   "outputs": [
    {
     "name": "stdout",
     "output_type": "stream",
     "text": [
      "8\n"
     ]
    }
   ],
   "source": [
    "x = 5\n",
    "x+=3\n",
    "print(x)"
   ]
  },
  {
   "cell_type": "code",
   "execution_count": 20,
   "metadata": {},
   "outputs": [
    {
     "data": {
      "text/plain": [
       "5"
      ]
     },
     "execution_count": 20,
     "metadata": {},
     "output_type": "execute_result"
    }
   ],
   "source": [
    "x-=3\n",
    "x"
   ]
  },
  {
   "cell_type": "code",
   "execution_count": 21,
   "metadata": {},
   "outputs": [
    {
     "data": {
      "text/plain": [
       "15"
      ]
     },
     "execution_count": 21,
     "metadata": {},
     "output_type": "execute_result"
    }
   ],
   "source": [
    "x*=3\n",
    "x"
   ]
  },
  {
   "cell_type": "code",
   "execution_count": 22,
   "metadata": {},
   "outputs": [
    {
     "data": {
      "text/plain": [
       "7"
      ]
     },
     "execution_count": 22,
     "metadata": {},
     "output_type": "execute_result"
    }
   ],
   "source": [
    "x//=2\n",
    "x"
   ]
  },
  {
   "cell_type": "code",
   "execution_count": 23,
   "metadata": {},
   "outputs": [
    {
     "name": "stdout",
     "output_type": "stream",
     "text": [
      "['T-shirts', 'veggies', 'fruits']\n",
      "<class 'list'>\n"
     ]
    }
   ],
   "source": [
    "tag = list((\"T-shirts\", \"veggies\", \"fruits\"))\n",
    "\n",
    "print(tag)\n",
    "print(type(tag))"
   ]
  },
  {
   "cell_type": "code",
   "execution_count": 24,
   "metadata": {},
   "outputs": [
    {
     "name": "stdout",
     "output_type": "stream",
     "text": [
      "('T-shirts', 'veggies', 'fruits')\n",
      "<class 'tuple'>\n"
     ]
    }
   ],
   "source": [
    "tag = tuple((\"T-shirts\", \"veggies\", \"fruits\"))\n",
    "\n",
    "print(tag)\n",
    "print(type(tag))"
   ]
  },
  {
   "cell_type": "code",
   "execution_count": 25,
   "metadata": {},
   "outputs": [
    {
     "name": "stdout",
     "output_type": "stream",
     "text": [
      "{'fruits', 'veggies', 'T-shirts'}\n",
      "<class 'set'>\n"
     ]
    }
   ],
   "source": [
    "tag = set((\"T-shirts\", \"veggies\", \"fruits\"))\n",
    "\n",
    "print(tag)\n",
    "print(type(tag))\n"
   ]
  },
  {
   "cell_type": "code",
   "execution_count": 26,
   "metadata": {},
   "outputs": [
    {
     "name": "stdout",
     "output_type": "stream",
     "text": [
      "veggies\n",
      "T-shirts\n",
      "fruits\n",
      "fruits\n"
     ]
    }
   ],
   "source": [
    "tag = (\"T-shirts\", \"veggies\", \"fruits\")\n",
    "\n",
    "print(tag[1])\n",
    "print(tag[0])\n",
    "print(tag[2])\n",
    "print(tag[-1])\n"
   ]
  },
  {
   "cell_type": "code",
   "execution_count": 27,
   "metadata": {},
   "outputs": [
    {
     "name": "stdout",
     "output_type": "stream",
     "text": [
      "['Rent', 'veggies', 'fruits']\n",
      "['Rent', 'fruits']\n"
     ]
    }
   ],
   "source": [
    "tag = [\"T-shirts\", \"veggies\", \"fruits\"]\n",
    "\n",
    "tag[0:1] = [\"Rent\"]\n",
    "print(tag)\n",
    "\n",
    "tag[0:2] = [\"Rent\"]\n",
    "print(tag)"
   ]
  },
  {
   "cell_type": "markdown",
   "metadata": {},
   "source": [
    "# append,insert, extend\n",
    "# pop, remove, index\n",
    "# count, sort, reverse\n",
    "# copy, clear\n",
    "1. append() : This function is used to add an element to the end of the\n",
    "list. It can take one argument which is the element to be added.\n",
    "2. insert() : This function is used to add an element at a specified position in\n",
    "the list. It can take two arguments, the position and the element to be added.\n",
    "3. extend() : This function is used to add multiple elements to the end of the\n",
    "list. It can take one argument which is a list or any other iterable containing\n",
    "the elements to be added.\n",
    "4. pop() : This function is used to remove and return an element from the list\n",
    "at a specified position. It can take one argument which is the position of the\n",
    "element to be removed. If no argument is provided, it removes and returns the\n",
    "last element from the list.\n",
    "5. remove() : This function is used to remove the first occurrence of a specified\n",
    "element from the list. It can take one argument which is the element to be removed.\n",
    "6. index() : This function is used to return the index of the first occurrence of\n",
    "a specified element in the list. It can take one argument which is the element\n",
    "to be searched for.\n",
    "7. count() : This function is used to return the number of occurrences of a\n",
    "specified element in the list. It can take one argument which is the element to\n",
    "be searched for.\n",
    "8. sort() : This function is used to sort the elements of the list in ascending\n",
    "order. It can take one argument which is the key function to be used for sorting.\n",
    "9. reverse() : This function is used to reverse the order of the elements in the\n",
    "list.\n",
    "10. copy() : This function is used to create a copy of the list.\n",
    "11. clear() : This function is used to remove all elements from the list.\n",
    "\n"
   ]
  },
  {
   "cell_type": "code",
   "execution_count": 28,
   "metadata": {},
   "outputs": [
    {
     "name": "stdout",
     "output_type": "stream",
     "text": [
      "home\n",
      "car\n",
      "audi\n",
      "rangerover\n",
      "lamborgini\n",
      "2bhk\n",
      "5bhk\n",
      "pool\n"
     ]
    }
   ],
   "source": [
    "thislist = ['home', 'car', 'audi', 'rangerover', 'lamborgini', '2bhk', '5bhk', 'pool']\n",
    "for x in range(len(thislist)):\n",
    "    print(thislist[x])\n"
   ]
  },
  {
   "cell_type": "code",
   "execution_count": 29,
   "metadata": {},
   "outputs": [
    {
     "name": "stdout",
     "output_type": "stream",
     "text": [
      "4 home\n",
      "3 car\n",
      "4 audi\n",
      "10 rangerover\n",
      "10 lamborgini\n",
      "4 2bhk\n",
      "4 5bhk\n",
      "4 pool\n"
     ]
    }
   ],
   "source": [
    "thislist = ['home', 'car', 'audi', 'rangerover', 'lamborgini', '2bhk', '5bhk', 'pool']\n",
    "\n",
    "# for item in range(len(thislist)):\n",
    "#     print(thislist[item])\n",
    "\n",
    "for indexing in thislist:\n",
    "    print(len(indexing), (indexing))\n",
    "\n",
    "\n"
   ]
  },
  {
   "cell_type": "code",
   "execution_count": 30,
   "metadata": {},
   "outputs": [
    {
     "name": "stdout",
     "output_type": "stream",
     "text": [
      "home\n",
      "car\n",
      "audi\n",
      "rangerover\n",
      "lamborgini\n",
      "2bhk\n",
      "5bhk\n",
      "pool\n"
     ]
    }
   ],
   "source": [
    "for indexing in thislist:\n",
    "    print(indexing)"
   ]
  },
  {
   "cell_type": "code",
   "execution_count": 32,
   "metadata": {},
   "outputs": [
    {
     "name": "stdout",
     "output_type": "stream",
     "text": [
      "0\n",
      "1\n",
      "2\n",
      "3\n",
      "4\n"
     ]
    }
   ],
   "source": [
    "for i in range(10):\n",
    "    if i == 5:\n",
    "        break\n",
    "    print(i)"
   ]
  },
  {
   "cell_type": "code",
   "execution_count": 33,
   "metadata": {},
   "outputs": [
    {
     "name": "stdout",
     "output_type": "stream",
     "text": [
      "0\n",
      "1\n",
      "3\n",
      "4\n",
      "5\n",
      "6\n",
      "7\n",
      "8\n",
      "9\n"
     ]
    }
   ],
   "source": [
    "for i in range(10):\n",
    "    if i ==2:\n",
    "        continue\n",
    "    print(i)"
   ]
  },
  {
   "cell_type": "code",
   "execution_count": 34,
   "metadata": {},
   "outputs": [
    {
     "name": "stdout",
     "output_type": "stream",
     "text": [
      "i 0  and  j 0\n",
      "i 0  and  j 1\n",
      "i 1  and  j 0\n",
      "i 1  and  j 1\n",
      "i 2  and  j 0\n",
      "i 2  and  j 1\n"
     ]
    }
   ],
   "source": [
    "for i in range(3):\n",
    "    for j in range(2):\n",
    "        print(\"i\", i,\" and \", \"j\", j)"
   ]
  },
  {
   "cell_type": "code",
   "execution_count": 35,
   "metadata": {},
   "outputs": [
    {
     "name": "stdout",
     "output_type": "stream",
     "text": [
      "0\n",
      "1\n",
      "2\n",
      "3\n",
      "4\n",
      "5\n",
      "6\n",
      "7\n",
      "8\n",
      "9\n"
     ]
    }
   ],
   "source": [
    "num = 10\n",
    "\n",
    "for x in range(num):\n",
    "    print(x)\n"
   ]
  },
  {
   "cell_type": "code",
   "execution_count": 36,
   "metadata": {},
   "outputs": [
    {
     "name": "stdout",
     "output_type": "stream",
     "text": [
      "1\n",
      "3\n",
      "6\n",
      "10\n",
      "15\n",
      "21\n",
      "28\n",
      "36\n",
      "45\n",
      "55\n",
      "printing sum of natural num out of the loop: 55\n"
     ]
    }
   ],
   "source": [
    "num = 10\n",
    "sum = 0\n",
    "count= 1\n",
    "\n",
    "\n",
    "while count<=num:\n",
    "    sum = sum + count  # 0+1\n",
    "    count= count+1   # 1+1\n",
    "    print(sum)\n",
    "print(\"printing sum of natural num out of the loop:\", sum)"
   ]
  },
  {
   "cell_type": "code",
   "execution_count": 37,
   "metadata": {},
   "outputs": [
    {
     "name": "stdout",
     "output_type": "stream",
     "text": [
      "55\n"
     ]
    }
   ],
   "source": [
    "# sum of 10 natural numbers.\n",
    "sum = 0\n",
    "\n",
    "for i in range(11):\n",
    "    sum = sum+i\n",
    "print(sum)"
   ]
  },
  {
   "cell_type": "code",
   "execution_count": 38,
   "metadata": {},
   "outputs": [
    {
     "name": "stdout",
     "output_type": "stream",
     "text": [
      "55\n"
     ]
    }
   ],
   "source": [
    "sum = 0\n",
    "for i in range(11):\n",
    "  sum = sum + i  #0+1=1, 1+2=3, 3+3=6, 6+4=10 , 10+5=15, 15+6=21, 21+7=28, 28+8=36, 36+9=45, 45+10=55.\n",
    "print(sum)"
   ]
  },
  {
   "cell_type": "code",
   "execution_count": 39,
   "metadata": {},
   "outputs": [
    {
     "name": "stdout",
     "output_type": "stream",
     "text": [
      "2\n",
      "3\n",
      "5\n",
      "7\n",
      "11\n",
      "13\n",
      "17\n",
      "19\n",
      "23\n",
      "29\n",
      "31\n",
      "37\n",
      "41\n",
      "43\n",
      "47\n",
      "53\n",
      "59\n",
      "61\n",
      "67\n",
      "71\n",
      "73\n",
      "79\n",
      "83\n",
      "89\n",
      "97\n"
     ]
    }
   ],
   "source": [
    "## Example- Prime numbers between 1 and 100\n",
    "\n",
    "for num in range(1,101):\n",
    "    if num>1:\n",
    "        for i in range(2,num):\n",
    "            if num%i==0:\n",
    "                break\n",
    "        else:\n",
    "            print(num)"
   ]
  },
  {
   "cell_type": "code",
   "execution_count": 40,
   "metadata": {},
   "outputs": [
    {
     "name": "stdout",
     "output_type": "stream",
     "text": [
      "['5bhk', 'apartment', 'business', 'cars', 'garden', 'hotel', 'house', 'pool', 'trip']\n",
      "['trip', 'pool', 'house', 'hotel', 'garden', 'cars', 'business', 'apartment', '5bhk']\n",
      "['trip', 'house', 'hotel', 'garden', 'cars', 'business', 'apartment', '5bhk']\n",
      "['trip', 'house', 'hotel', 'garden', 'cars', 'business', 'apartment', '5bhk', 'paris']\n",
      "['trip', 'newyork', 'house', 'hotel', 'garden', 'cars', 'business', 'apartment', '5bhk', 'paris']\n",
      "['trip', 'newyork', 'house', 'hotel', 'garden', 'cars', 'business', 'apartment', '5bhk']\n",
      "['5bhk', 'apartment', 'business', 'cars', 'garden', 'hotel', 'house', 'newyork', 'trip']\n"
     ]
    }
   ],
   "source": [
    "mylist = ['cars', 'house', 'business', 'trip', 'hotel', 'apartment', '5bhk', 'pool', 'garden']\n",
    "\n",
    "mylist.sort()\n",
    "print(mylist)\n",
    "\n",
    "mylist.reverse()\n",
    "print(mylist)\n",
    "\n",
    "mylist.pop(1)\n",
    "print(mylist)\n",
    "\n",
    "mylist.append('paris')\n",
    "print(mylist)\n",
    "\n",
    "mylist.insert(1, 'newyork')\n",
    "print(mylist)\n",
    "mylist.remove('paris')\n",
    "print(mylist)\n",
    "\n",
    "mylist.sort()\n",
    "print(mylist)\n",
    "\n"
   ]
  },
  {
   "cell_type": "code",
   "execution_count": 42,
   "metadata": {},
   "outputs": [
    {
     "name": "stdout",
     "output_type": "stream",
     "text": [
      "[0, 1, 4, 9, 16, 25, 36, 49, 64, 81, 100]\n"
     ]
    }
   ],
   "source": [
    "num = []\n",
    "\n",
    "for x in range(11):\n",
    "    num.append(x**2)\n",
    "print(num)"
   ]
  },
  {
   "cell_type": "code",
   "execution_count": 43,
   "metadata": {},
   "outputs": [
    {
     "name": "stdout",
     "output_type": "stream",
     "text": [
      "[0, 2, 4, 6, 8, 10, 12, 14, 16, 18]\n",
      "[0, 3, 6, 9, 12, 15, 18, 21, 24, 27]\n"
     ]
    }
   ],
   "source": [
    "num = []\n",
    "\n",
    "for i in range(10):\n",
    "    num.append(i*2)\n",
    "    \n",
    "print(num)\n",
    "\n",
    "\n",
    "num=[]\n",
    "for i in range(10):\n",
    "    num.append(i*3)\n",
    "print(num)\n"
   ]
  },
  {
   "cell_type": "code",
   "execution_count": 44,
   "metadata": {},
   "outputs": [
    {
     "name": "stdout",
     "output_type": "stream",
     "text": [
      "(1, 3) world b\n"
     ]
    }
   ],
   "source": [
    "tuple = ((5,1,3), ('hello', 'world'), (\"a\",\"b\", \"c\"))\n",
    "print(tuple[0][1:3], (tuple[1][1]), (tuple[2][1]))"
   ]
  },
  {
   "cell_type": "code",
   "execution_count": 45,
   "metadata": {},
   "outputs": [
    {
     "name": "stdout",
     "output_type": "stream",
     "text": [
      "5 1 3 \n",
      "hello world \n",
      "a b c \n"
     ]
    }
   ],
   "source": [
    "nested_tuple = ((5,1,3), ('hello', 'world'), (\"a\",\"b\", \"c\"))\n",
    "\n",
    "for sub_tuple in nested_tuple:\n",
    "    for item in sub_tuple:\n",
    "        print(item, end=\" \")\n",
    "    print()"
   ]
  },
  {
   "cell_type": "code",
   "execution_count": 48,
   "metadata": {},
   "outputs": [
    {
     "name": "stdout",
     "output_type": "stream",
     "text": [
      "<class 'set'>\n",
      "{1, 3, 4, 5, 6}\n",
      "{1, 2, 3, 4, 5, 6}\n",
      "{2, 3, 4, 5, 6}\n"
     ]
    }
   ],
   "source": [
    "set1 = {1,2,3,4,5,6}\n",
    "\n",
    "print(type(set1))\n",
    "\n",
    "set1.remove(2)\n",
    "print(set1)\n",
    "\n",
    "set1.add(2)\n",
    "print(set1)\n",
    "\n",
    "set1.remove(1)\n",
    "print(set1)\n",
    "\n",
    "\n"
   ]
  },
  {
   "cell_type": "code",
   "execution_count": 49,
   "metadata": {},
   "outputs": [
    {
     "name": "stdout",
     "output_type": "stream",
     "text": [
      "{2, 3, 4, 5, 6}\n"
     ]
    }
   ],
   "source": [
    "set1.discard(10)\n",
    "print(set1)\n",
    "\n"
   ]
  },
  {
   "cell_type": "code",
   "execution_count": 50,
   "metadata": {},
   "outputs": [
    {
     "name": "stdout",
     "output_type": "stream",
     "text": [
      "{3, 4, 5, 6}\n"
     ]
    }
   ],
   "source": [
    "set1.pop()\n",
    "print(set1)\n"
   ]
  },
  {
   "cell_type": "code",
   "execution_count": 51,
   "metadata": {},
   "outputs": [
    {
     "name": "stdout",
     "output_type": "stream",
     "text": [
      "set()\n"
     ]
    }
   ],
   "source": [
    "set1.clear()\n",
    "print(set1)"
   ]
  },
  {
   "cell_type": "code",
   "execution_count": 52,
   "metadata": {},
   "outputs": [
    {
     "name": "stdout",
     "output_type": "stream",
     "text": [
      "{'pool', 'park', 'house', 'garden', 'Cars', 'flat', 'bikes', 'luggage', 'dresses'}\n",
      "{'house', 'dresses'}\n",
      "{'luggage', 'flat', 'pool', 'Cars'}\n",
      "{'garden', 'bikes', 'park'}\n",
      "{'flat', 'bikes', 'park', 'pool', 'luggage', 'garden', 'Cars'}\n"
     ]
    }
   ],
   "source": [
    "set_items = {\"house\", \"dresses\", \"luggage\", \"flat\", \"pool\", \"Cars\"}\n",
    "set2 = {\"house\", \"dresses\", \"park\", \"garden\", \"bikes\"}\n",
    "\n",
    "union_method = set_items.union(set2)\n",
    "print(union_method)  \n",
    "\n",
    "intersection1 = set_items.intersection(set2)\n",
    "print(intersection1)\n",
    "\n",
    "diff = set_items.difference(set2)\n",
    "print(diff)\n",
    "\n",
    "diff = set2.difference(set_items)  # it will show on only set2 items which are not in set1\n",
    "print(diff)\n",
    "\n",
    "total_diff= set_items.symmetric_difference(set2)\n",
    "print(total_diff)"
   ]
  },
  {
   "cell_type": "code",
   "execution_count": 74,
   "metadata": {},
   "outputs": [
    {
     "name": "stdout",
     "output_type": "stream",
     "text": [
      "False\n",
      "True\n"
     ]
    }
   ],
   "source": [
    "set1={1,2,3,4,5}\n",
    "set2={4,5}\n",
    "\n",
    "# is set\n",
    "\n",
    "print(set1.issubset(set2))\n",
    "print(set1.issuperset(set2))"
   ]
  },
  {
   "cell_type": "code",
   "execution_count": 75,
   "metadata": {},
   "outputs": [
    {
     "name": "stdout",
     "output_type": "stream",
     "text": [
      "['In', 'this', 'tutorial', 'we', 'are', 'are', 'discussing', 'about', 'sets']\n",
      "{'about', 'this', 'we', 'sets', 'are', 'tutorial', 'In', 'discussing'}\n",
      "8\n"
     ]
    }
   ],
   "source": [
    "text= (\"In this tutorial we are are discussing about sets\")\n",
    "\n",
    "word= text.split()\n",
    "print(word)\n",
    "unique_word = set(word)\n",
    "print(unique_word)\n",
    "\n",
    "print(len(unique_word))"
   ]
  },
  {
   "cell_type": "code",
   "execution_count": 88,
   "metadata": {},
   "outputs": [
    {
     "name": "stdout",
     "output_type": "stream",
     "text": [
      "<class 'dict'>\n"
     ]
    },
    {
     "data": {
      "text/plain": [
       "{'name': 'shweta', 'EMP_code': 123, 'age': 'null'}"
      ]
     },
     "execution_count": 88,
     "metadata": {},
     "output_type": "execute_result"
    }
   ],
   "source": [
    "employee = {\"name\" : \"shweta\", \"EMP_code\" : 123, \"age\" : \"null\"}\n",
    "\n",
    "print(type(employee))\n",
    "employee"
   ]
  },
  {
   "cell_type": "code",
   "execution_count": 89,
   "metadata": {},
   "outputs": [
    {
     "name": "stdout",
     "output_type": "stream",
     "text": [
      "null\n",
      "shweta\n",
      "None\n",
      "city not available\n"
     ]
    }
   ],
   "source": [
    "print(employee[\"age\"])\n",
    "print(employee[\"name\"])\n",
    "print(employee.get(\"city\"))  # will not show any error if key is not present in dict.\n",
    "print(employee.get(\"city\", \"city not available\"))"
   ]
  },
  {
   "cell_type": "code",
   "execution_count": 90,
   "metadata": {},
   "outputs": [
    {
     "name": "stdout",
     "output_type": "stream",
     "text": [
      "24\n"
     ]
    }
   ],
   "source": [
    "employee[\"age\"] = 24\n",
    "print(employee[\"age\"])  # Output: 24"
   ]
  },
  {
   "cell_type": "code",
   "execution_count": 91,
   "metadata": {},
   "outputs": [
    {
     "name": "stdout",
     "output_type": "stream",
     "text": [
      "Washington DC\n",
      "{'name': 'shweta', 'EMP_code': 123, 'age': 24, 'state': 'Washington DC'}\n"
     ]
    }
   ],
   "source": [
    "employee[\"state\"] = \"Washington DC\"\n",
    "print(employee[\"state\"]) \n",
    "print(employee) "
   ]
  },
  {
   "cell_type": "code",
   "execution_count": 92,
   "metadata": {},
   "outputs": [
    {
     "name": "stdout",
     "output_type": "stream",
     "text": [
      "dict_keys(['name', 'EMP_code', 'age', 'state', 'city', 'salary'])\n",
      "dict_values(['shweta', 123, 24, 'Washington DC', 'newyork', '45000$'])\n",
      "dict_items([('name', 'shweta'), ('EMP_code', 123), ('age', 24), ('state', 'Washington DC'), ('city', 'newyork'), ('salary', '45000$')])\n"
     ]
    }
   ],
   "source": [
    "employee[\"city\"] = \"newyork\"\n",
    "employee [\"salary\"] = \"45000$\"\n",
    "\n",
    "# print(\"keys: \", employee.keys(), \"values: \",employee.values(),\"items: \",employee.items())\n",
    "\n",
    "keys = employee.keys()\n",
    "print(keys)\n",
    "\n",
    "values = employee.values()\n",
    "print(values)\n",
    "\n",
    "items = employee.items()\n",
    "print(items)\n"
   ]
  },
  {
   "cell_type": "code",
   "execution_count": 93,
   "metadata": {},
   "outputs": [
    {
     "name": "stdout",
     "output_type": "stream",
     "text": [
      "{'name': 'shweta', 'EMP_code': 123, 'age': 24, 'state': 'Washington DC', 'city': 'newyork', 'salary': '45000$'}\n",
      "{'name': 'shweta', 'EMP_code': 123, 'age': 24, 'state': 'Washington DC', 'city': 'newyork', 'salary': '45000$'}\n"
     ]
    }
   ],
   "source": [
    "employee_clone = employee\n",
    "print(employee)\n",
    "print(employee_clone)"
   ]
  },
  {
   "cell_type": "code",
   "execution_count": 94,
   "metadata": {},
   "outputs": [
    {
     "name": "stdout",
     "output_type": "stream",
     "text": [
      "{'name': 'Jasica', 'EMP_code': 123, 'age': 24, 'state': 'Washington DC', 'city': 'newyork', 'salary': '45000$'}\n"
     ]
    }
   ],
   "source": [
    "employee[\"name\"] = \"Jasica\"\n",
    "\n",
    "# print(employee)\n",
    "print(employee_clone)"
   ]
  },
  {
   "cell_type": "code",
   "execution_count": 95,
   "metadata": {},
   "outputs": [
    {
     "name": "stdout",
     "output_type": "stream",
     "text": [
      "{'name': 'Jasica', 'EMP_code': 123, 'age': 24, 'state': 'Washington DC', 'city': 'newyork', 'salary': '45000$'}\n",
      "{'name': 'Jasica', 'EMP_code': 123, 'age': 24, 'state': 'Washington DC', 'city': 'newyork', 'salary': '45000$'}\n"
     ]
    }
   ],
   "source": [
    "employee_clone1 = employee.copy()\n",
    "\n",
    "print(employee_clone1)\n",
    "print(employee)"
   ]
  },
  {
   "cell_type": "code",
   "execution_count": 96,
   "metadata": {},
   "outputs": [
    {
     "name": "stdout",
     "output_type": "stream",
     "text": [
      "{'name': 'Jasica', 'EMP_code': 123, 'age': 24, 'state': 'Washington DC', 'city': 'newyork', 'salary': '45000$'}\n",
      "{'name': 'Jasica', 'EMP_code': 123, 'age': 30, 'state': 'Washington DC', 'city': 'newyork', 'salary': '45000$'}\n"
     ]
    }
   ],
   "source": [
    "employee[\"age\"] = 30\n",
    "print(employee_clone1)\n",
    "print(employee_clone)"
   ]
  },
  {
   "cell_type": "code",
   "execution_count": 97,
   "metadata": {},
   "outputs": [
    {
     "name": "stdout",
     "output_type": "stream",
     "text": [
      "name\n",
      "EMP_code\n",
      "age\n",
      "state\n",
      "city\n",
      "salary\n"
     ]
    }
   ],
   "source": [
    "for keys in employee:\n",
    "    print(keys)"
   ]
  },
  {
   "cell_type": "code",
   "execution_count": 98,
   "metadata": {},
   "outputs": [
    {
     "name": "stdout",
     "output_type": "stream",
     "text": [
      "name\n",
      "EMP_code\n",
      "age\n",
      "state\n",
      "city\n",
      "salary\n"
     ]
    }
   ],
   "source": [
    "for values in employee:\n",
    "    print(values)"
   ]
  },
  {
   "cell_type": "code",
   "execution_count": 99,
   "metadata": {},
   "outputs": [
    {
     "name": "stdout",
     "output_type": "stream",
     "text": [
      " name  Jasica\n",
      " EMP_code  123\n",
      " age  30\n",
      " state  Washington DC\n",
      " city  newyork\n",
      " salary  45000$\n"
     ]
    }
   ],
   "source": [
    "for keys,values in employee.items():\n",
    "    print(f\" {keys}  {values}\")"
   ]
  },
  {
   "cell_type": "code",
   "execution_count": 100,
   "metadata": {},
   "outputs": [
    {
     "name": "stdout",
     "output_type": "stream",
     "text": [
      "{'name': 'Shweta', 'class': '12', 'age': 18}\n",
      "{'name': 'Ammy', 'class': '10', 'age': 16}\n"
     ]
    }
   ],
   "source": [
    "# nested dict\n",
    "\n",
    "students = { \n",
    "    \"student1\" : {\"name\":\"Shweta\", \"class\" : \"12\", \"age\" : 18},\n",
    "    \"student2\" : {\"name\":\"Ammy\" , \"class\" : \"10\", \"age\":16}\n",
    "\n",
    "}\n",
    "\n",
    "\n",
    "print(students[\"student1\"])\n",
    "print(students[\"student2\"])"
   ]
  },
  {
   "cell_type": "code",
   "execution_count": 101,
   "metadata": {},
   "outputs": [
    {
     "name": "stdout",
     "output_type": "stream",
     "text": [
      "Shweta\n"
     ]
    }
   ],
   "source": [
    "print(students[\"student1\"][\"name\"])"
   ]
  },
  {
   "cell_type": "code",
   "execution_count": 102,
   "metadata": {},
   "outputs": [
    {
     "name": "stdout",
     "output_type": "stream",
     "text": [
      "dict_keys(['student1', 'student2'])\n"
     ]
    }
   ],
   "source": [
    "print(students.keys())"
   ]
  },
  {
   "cell_type": "code",
   "execution_count": 103,
   "metadata": {},
   "outputs": [
    {
     "name": "stdout",
     "output_type": "stream",
     "text": [
      "dict_values([{'name': 'Shweta', 'class': '12', 'age': 18}, {'name': 'Ammy', 'class': '10', 'age': 16}])\n",
      "dict_items([('student1', {'name': 'Shweta', 'class': '12', 'age': 18}), ('student2', {'name': 'Ammy', 'class': '10', 'age': 16})])\n"
     ]
    }
   ],
   "source": [
    "print(students.values())\n",
    "print(students.items())"
   ]
  },
  {
   "cell_type": "code",
   "execution_count": 104,
   "metadata": {},
   "outputs": [
    {
     "name": "stdout",
     "output_type": "stream",
     "text": [
      "student1 : {'name': 'Shweta', 'class': '12', 'age': 18}\n",
      "student2 : {'name': 'Ammy', 'class': '10', 'age': 16}\n"
     ]
    }
   ],
   "source": [
    "for external,internal in students.items():\n",
    "      print(f\"{external} : {internal}\")\n",
    "      "
   ]
  },
  {
   "cell_type": "code",
   "execution_count": 105,
   "metadata": {},
   "outputs": [
    {
     "name": "stdout",
     "output_type": "stream",
     "text": [
      "student1 : {'name': 'Shweta', 'class': '12', 'age': 18}\n",
      "name : Shweta\n",
      "class : 12\n",
      "age : 18\n",
      "student2 : {'name': 'Ammy', 'class': '10', 'age': 16}\n",
      "name : Ammy\n",
      "class : 10\n",
      "age : 16\n"
     ]
    }
   ],
   "source": [
    "for external,internal in students.items():\n",
    "      print(f\"{external} : {internal}\")\n",
    "      for keys, values in internal.items():\n",
    "            print(f\"{keys} : {values}\")\n",
    "\n",
    "\n"
   ]
  },
  {
   "cell_type": "code",
   "execution_count": 106,
   "metadata": {},
   "outputs": [
    {
     "name": "stdout",
     "output_type": "stream",
     "text": [
      "{0: 0}\n",
      "{1: 1}\n",
      "{2: 4}\n",
      "{3: 9}\n",
      "{4: 16}\n",
      "{5: 25}\n",
      "{6: 36}\n",
      "{7: 49}\n",
      "{8: 64}\n",
      "{9: 81}\n",
      "{10: 100}\n"
     ]
    }
   ],
   "source": [
    "for x in range(11):\n",
    "    print({x : x**2})"
   ]
  },
  {
   "cell_type": "code",
   "execution_count": 108,
   "metadata": {},
   "outputs": [
    {
     "name": "stdout",
     "output_type": "stream",
     "text": [
      "{0: 0}\n",
      "{2: 4}\n",
      "{4: 16}\n",
      "{6: 36}\n",
      "{8: 64}\n",
      "{10: 100}\n"
     ]
    }
   ],
   "source": [
    "for x in range(11):\n",
    "    if x%2==0:\n",
    "        print({x :x**2})"
   ]
  },
  {
   "cell_type": "code",
   "execution_count": 109,
   "metadata": {},
   "outputs": [
    {
     "name": "stdout",
     "output_type": "stream",
     "text": [
      "{0: 0, 1: 1, 2: 4, 3: 9, 4: 16}\n"
     ]
    }
   ],
   "source": [
    "# comprehension \n",
    "\n",
    "x = {x :x**2 for x in range(5)}\n",
    "print(x)"
   ]
  },
  {
   "cell_type": "code",
   "execution_count": 110,
   "metadata": {},
   "outputs": [
    {
     "name": "stdout",
     "output_type": "stream",
     "text": [
      "{0: 0, 2: 4, 4: 16, 6: 36, 8: 64}\n"
     ]
    }
   ],
   "source": [
    "x = {x : x**2 for x \n",
    "in range(10) if x%2==0}\n",
    "print(x)"
   ]
  },
  {
   "cell_type": "code",
   "execution_count": 111,
   "metadata": {},
   "outputs": [
    {
     "name": "stdout",
     "output_type": "stream",
     "text": [
      "[0, 4, 16, 36, 64, 100]\n"
     ]
    }
   ],
   "source": [
    "x = [x**2 for x in range(11) if x % 2 == 0]\n",
    "print(x)"
   ]
  },
  {
   "cell_type": "code",
   "execution_count": 112,
   "metadata": {},
   "outputs": [
    {
     "name": "stdout",
     "output_type": "stream",
     "text": [
      "{'a': 1, 'b': 2, 'c': 1, 'd': 2}\n"
     ]
    }
   ],
   "source": [
    "#  merge 2 dict into 1.\n",
    "\n",
    "dict1 = {\"a\" : 1, \"b\": 2}\n",
    "dict2 = {\"c\" : 1, \"d\": 2}\n",
    "\n",
    "merge_dict = {**dict1,**dict2}\n",
    "print(merge_dict)"
   ]
  },
  {
   "cell_type": "code",
   "execution_count": null,
   "metadata": {},
   "outputs": [],
   "source": [
    "# def function_name(parameter):\n",
    "#     '''docstring'''\n",
    "#     # function body\n",
    "#     return expression"
   ]
  },
  {
   "cell_type": "code",
   "execution_count": 114,
   "metadata": {},
   "outputs": [
    {
     "data": {
      "text/plain": [
       "'odd'"
      ]
     },
     "execution_count": 114,
     "metadata": {},
     "output_type": "execute_result"
    }
   ],
   "source": [
    "def even_or_odd(num):\n",
    "    '''this function determines whether a num is even or odd'''\n",
    "    if num % 2 == 0 :\n",
    "        return \"even\"\n",
    "    else:\n",
    "        return \"odd\"\n",
    "    \n",
    "even_or_odd(10)\n",
    "even_or_odd(15)"
   ]
  },
  {
   "cell_type": "code",
   "execution_count": 115,
   "metadata": {},
   "outputs": [
    {
     "name": "stdout",
     "output_type": "stream",
     "text": [
      " sum of two num is : 9 \n"
     ]
    }
   ],
   "source": [
    "def sum(a,b):\n",
    "    '''sum of two num'''\n",
    "    print(f\" sum of two num is : {a+b} \")\n",
    "    \n",
    "sum(4,5)"
   ]
  },
  {
   "cell_type": "code",
   "execution_count": 117,
   "metadata": {},
   "outputs": [
    {
     "name": "stdout",
     "output_type": "stream",
     "text": [
      "hello Shivi welcome to my kingdom\n"
     ]
    }
   ],
   "source": [
    "def greet(name):\n",
    "    print(f\"hello {name} welcome to my kingdom\")\n",
    "\n",
    "greet(\"Shivi\")"
   ]
  },
  {
   "cell_type": "code",
   "execution_count": 118,
   "metadata": {},
   "outputs": [
    {
     "name": "stdout",
     "output_type": "stream",
     "text": [
      "25\n"
     ]
    }
   ],
   "source": [
    "def facts(a,b):\n",
    "    print(a*b)\n",
    "\n",
    "facts(5,5)"
   ]
  },
  {
   "cell_type": "code",
   "execution_count": 119,
   "metadata": {},
   "outputs": [
    {
     "name": "stdout",
     "output_type": "stream",
     "text": [
      "hello 'Shweta' welcome to my home.\n",
      "hello 'guest' welcome to my home.\n"
     ]
    }
   ],
   "source": [
    "def greet(name = \"\\'guest\\'\"):\n",
    "    print(f\"hello {name} welcome to my home.\")\n",
    "\n",
    "greet(\"\\'Shweta\\'\")\n",
    "greet()"
   ]
  },
  {
   "cell_type": "code",
   "execution_count": 120,
   "metadata": {},
   "outputs": [
    {
     "name": "stdout",
     "output_type": "stream",
     "text": [
      "Hello 'geast' welcome to my home.\n"
     ]
    }
   ],
   "source": [
    "def greet(name = \"\\'geast\\'\"):\n",
    "    print(f\"Hello {name} welcome to my home.\")\n",
    "\n",
    "greet()"
   ]
  },
  {
   "cell_type": "code",
   "execution_count": 121,
   "metadata": {},
   "outputs": [
    {
     "name": "stdout",
     "output_type": "stream",
     "text": [
      " Hello ('Shweta', 'Annu') welcome to my home.\n"
     ]
    }
   ],
   "source": [
    "def greet(*name):\n",
    "    print(f\" Hello {name} welcome to my home.\")\n",
    "\n",
    "greet(\"Shweta\", \"Annu\")"
   ]
  },
  {
   "cell_type": "code",
   "execution_count": 122,
   "metadata": {},
   "outputs": [
    {
     "name": "stdout",
     "output_type": "stream",
     "text": [
      "1\n",
      "2\n",
      "3\n",
      "4\n",
      "5\n",
      "Shweta\n"
     ]
    }
   ],
   "source": [
    "def funct(*name):\n",
    "    for loop in name:\n",
    "        print(loop)\n",
    "\n",
    "funct(1,2,3,4,5,\"Shweta\")"
   ]
  },
  {
   "cell_type": "code",
   "execution_count": 123,
   "metadata": {},
   "outputs": [
    {
     "name": "stdout",
     "output_type": "stream",
     "text": [
      "name:  Shweta\n",
      "name:  Arvi\n",
      "name:  Lavanya\n",
      "name:  Ruhi\n"
     ]
    }
   ],
   "source": [
    "# args= positional arguments\n",
    "\n",
    "def name(*args):\n",
    "    for loop in args:\n",
    "        print(f\"name:  {loop}\")\n",
    "\n",
    "name(\"Shweta\", \"Arvi\", \"Lavanya\", \"Ruhi\")"
   ]
  },
  {
   "cell_type": "code",
   "execution_count": 124,
   "metadata": {},
   "outputs": [
    {
     "name": "stdout",
     "output_type": "stream",
     "text": [
      "1\n",
      "2\n",
      "3\n",
      "1\n",
      "3\n",
      "1\n",
      "3\n",
      "1\n"
     ]
    }
   ],
   "source": [
    "def num(*args):\n",
    "    for loop in args:\n",
    "        print(loop)\n",
    "\n",
    "num(1,2,3,1,3,1,3,1)"
   ]
  },
  {
   "cell_type": "code",
   "execution_count": 125,
   "metadata": {},
   "outputs": [
    {
     "name": "stdout",
     "output_type": "stream",
     "text": [
      "name: Ahana\n",
      "age: 25\n",
      "city: Pune\n"
     ]
    }
   ],
   "source": [
    "def details(**kwargs):\n",
    "    for key,value in kwargs.items():\n",
    "        print(f\"{key}: {value}\")\n",
    "\n",
    "details(name = \"Ahana\", age = 25, city = \"Pune\")"
   ]
  },
  {
   "cell_type": "code",
   "execution_count": 126,
   "metadata": {},
   "outputs": [
    {
     "name": "stdout",
     "output_type": "stream",
     "text": [
      "Employee Details- name: Willim\n",
      "Employee Details- age: 40\n",
      "Employee Details- gender: Male\n",
      "Employee Details- occupation: Software Engineer\n"
     ]
    }
   ],
   "source": [
    "def emp(**kwargs):\n",
    "    for keys,values in kwargs.items():\n",
    "        print(f\"Employee Details- {keys}: {values}\")\n",
    "\n",
    "\n",
    "emp(name = \"Willim\", age = 40, gender = \"Male\", occupation = \"Software Engineer\")"
   ]
  },
  {
   "cell_type": "code",
   "execution_count": 127,
   "metadata": {},
   "outputs": [
    {
     "name": "stdout",
     "output_type": "stream",
     "text": [
      " Employee Details\n",
      " name: Willim\n",
      " age: 40\n",
      " gender: Male\n",
      " occupation: Software Engineer\n"
     ]
    }
   ],
   "source": [
    "def emp(*args, **kwargs):\n",
    "    for loop in args:\n",
    "        print(loop)\n",
    "\n",
    "    for keys,values in kwargs.items():\n",
    "        print(f\" {keys}: {values}\")\n",
    "\n",
    "\n",
    "emp(\" Employee Details\",name = \"Willim\", age = 40, gender = \"Male\", occupation = \"Software Engineer\")"
   ]
  },
  {
   "cell_type": "code",
   "execution_count": 128,
   "metadata": {},
   "outputs": [
    {
     "name": "stdout",
     "output_type": "stream",
     "text": [
      " Employee Details\n",
      " Willim\n",
      " 40\n",
      " Male\n",
      " Software Engineer\n"
     ]
    }
   ],
   "source": [
    "def emp(*args, **kwargs):\n",
    "    for loop in args:\n",
    "        print(loop)\n",
    "\n",
    "    for keys,values in kwargs.items():\n",
    "        print(f\" {values}\")\n",
    "\n",
    "\n",
    "emp(\" Employee Details\",name = \"Willim\", age = 40, gender = \"Male\", occupation = \"Software Engineer\")"
   ]
  },
  {
   "cell_type": "code",
   "execution_count": 131,
   "metadata": {},
   "outputs": [
    {
     "name": "stdout",
     "output_type": "stream",
     "text": [
      "False\n",
      "True\n"
     ]
    }
   ],
   "source": [
    "# password streanth checker \n",
    "\n",
    "def is_strong_password(password):\n",
    "\n",
    "    if len(password) < 8:\n",
    "        return False \n",
    "    if not any(char.isdigit() for char in password):\n",
    "        return False\n",
    "    if not any(char.isupper() for char in password):\n",
    "        return False\n",
    "    if not any(char.lower() for char in password):\n",
    "        return False\n",
    "    if not any(char in \"!@#$%^&*()_+-=\" for char in password):\n",
    "        return False\n",
    "    \n",
    "    return True\n",
    "\n",
    "# calling the function with a password\n",
    "\n",
    "print(is_strong_password(\"weakpassword\"))\n",
    "print(is_strong_password(\"Str0ng_Password!\"))"
   ]
  },
  {
   "cell_type": "code",
   "execution_count": 133,
   "metadata": {},
   "outputs": [
    {
     "data": {
      "text/plain": [
       "120"
      ]
     },
     "execution_count": 133,
     "metadata": {},
     "output_type": "execute_result"
    }
   ],
   "source": [
    "# factorial\n",
    "\n",
    "def factorial(n):\n",
    "    if n==0:\n",
    "        return 1\n",
    "    else:\n",
    "        return n*factorial(n-1)\n",
    "    \n",
    "factorial(5)\n",
    "    "
   ]
  },
  {
   "cell_type": "code",
   "execution_count": 135,
   "metadata": {},
   "outputs": [
    {
     "data": {
      "text/plain": [
       "720"
      ]
     },
     "execution_count": 135,
     "metadata": {},
     "output_type": "execute_result"
    }
   ],
   "source": [
    "def factorial(n):\n",
    "    if n==0:\n",
    "        return 1\n",
    "    else:\n",
    "        return n*factorial(n-1)\n",
    "    \n",
    "factorial(6)"
   ]
  },
  {
   "cell_type": "code",
   "execution_count": 136,
   "metadata": {},
   "outputs": [
    {
     "data": {
      "text/plain": [
       "4"
      ]
     },
     "execution_count": 136,
     "metadata": {},
     "output_type": "execute_result"
    }
   ],
   "source": [
    "# lambda\n",
    "add = lambda a,b:a+b\n",
    "add(2,2)"
   ]
  },
  {
   "cell_type": "code",
   "execution_count": 137,
   "metadata": {},
   "outputs": [
    {
     "data": {
      "text/plain": [
       "True"
      ]
     },
     "execution_count": 137,
     "metadata": {},
     "output_type": "execute_result"
    }
   ],
   "source": [
    "even = lambda num : num%2==0\n",
    "\n",
    "even(10)"
   ]
  },
  {
   "cell_type": "code",
   "execution_count": 138,
   "metadata": {},
   "outputs": [
    {
     "data": {
      "text/plain": [
       "25"
      ]
     },
     "execution_count": 138,
     "metadata": {},
     "output_type": "execute_result"
    }
   ],
   "source": [
    "exponent = lambda num : num**2\n",
    "exponent(5)"
   ]
  },
  {
   "cell_type": "code",
   "execution_count": 139,
   "metadata": {},
   "outputs": [
    {
     "name": "stdout",
     "output_type": "stream",
     "text": [
      "[1, 4, 9, 16, 25]\n",
      "[1, 4, 9, 16, 25]\n"
     ]
    }
   ],
   "source": [
    "# map\n",
    "num = [1,2,3,4,5]\n",
    "\n",
    "def square(x):\n",
    "    return x ** 2\n",
    "\n",
    "mapwith_function = list(map(square,num))\n",
    "print(mapwith_function)\n",
    "\n",
    "mapwith_lambda =list(map(lambda x: x ** 2, num))\n",
    "print(mapwith_lambda)\n"
   ]
  },
  {
   "cell_type": "code",
   "execution_count": 140,
   "metadata": {},
   "outputs": [
    {
     "data": {
      "text/plain": [
       "[1, 4, 9, 16, 25]"
      ]
     },
     "execution_count": 140,
     "metadata": {},
     "output_type": "execute_result"
    }
   ],
   "source": [
    "num = [1,2,3,4,5]\n",
    "list(map(lambda x:x**2, num))"
   ]
  },
  {
   "cell_type": "code",
   "execution_count": 141,
   "metadata": {},
   "outputs": [
    {
     "data": {
      "text/plain": [
       "[2, 4, 6, 8, 10]"
      ]
     },
     "execution_count": 141,
     "metadata": {},
     "output_type": "execute_result"
    }
   ],
   "source": [
    "num = [1,2,3,4,5]\n",
    "num2 = [1,2,3,4,5]\n",
    "\n",
    "list(map(lambda x,y : x+y , num, num2))\n"
   ]
  },
  {
   "cell_type": "code",
   "execution_count": 142,
   "metadata": {},
   "outputs": [
    {
     "data": {
      "text/plain": [
       "['SHWETA', 'HAPPY', 'BIRTHDAY']"
      ]
     },
     "execution_count": 142,
     "metadata": {},
     "output_type": "execute_result"
    }
   ],
   "source": [
    "words = ['Shweta','Happy', 'Birthday']\n",
    "list(map(str.upper, words))"
   ]
  },
  {
   "cell_type": "code",
   "execution_count": 143,
   "metadata": {},
   "outputs": [
    {
     "data": {
      "text/plain": [
       "(filter, True)"
      ]
     },
     "execution_count": 143,
     "metadata": {},
     "output_type": "execute_result"
    }
   ],
   "source": [
    "def even(num):\n",
    "    return num % 2 == 0\n",
    "\n",
    "# even(10)\n",
    "\n",
    "# list[filter, even(20)]\n",
    "\n",
    "(filter, even(10))\n"
   ]
  },
  {
   "cell_type": "code",
   "execution_count": 144,
   "metadata": {},
   "outputs": [
    {
     "data": {
      "text/plain": [
       "[0, 2, 4, 6, 8, 10]"
      ]
     },
     "execution_count": 144,
     "metadata": {},
     "output_type": "execute_result"
    }
   ],
   "source": [
    "num_list = range(11)\n",
    "\n",
    "list(filter (lambda x: x % 2 == 0, num_list))\n"
   ]
  },
  {
   "cell_type": "code",
   "execution_count": 146,
   "metadata": {},
   "outputs": [
    {
     "data": {
      "text/plain": [
       "[1, 3, 5, 7, 9]"
      ]
     },
     "execution_count": 146,
     "metadata": {},
     "output_type": "execute_result"
    }
   ],
   "source": [
    "list(filter (lambda x: x % 2 != 0, num_list))"
   ]
  },
  {
   "cell_type": "code",
   "execution_count": 145,
   "metadata": {},
   "outputs": [
    {
     "data": {
      "text/plain": [
       "[6, 8, 10]"
      ]
     },
     "execution_count": 145,
     "metadata": {},
     "output_type": "execute_result"
    }
   ],
   "source": [
    "# nums are even and greater than 5.\n",
    "\n",
    "list(filter (lambda x: x % 2 == 0 and x > 5, num_list))"
   ]
  },
  {
   "cell_type": "code",
   "execution_count": 147,
   "metadata": {},
   "outputs": [
    {
     "data": {
      "text/plain": [
       "[{'name': 'shweta', 'age': 24}, {'name': 'Harshita', 'age': 20}]"
      ]
     },
     "execution_count": 147,
     "metadata": {},
     "output_type": "execute_result"
    }
   ],
   "source": [
    "people = [\n",
    "    {'name' : 'shweta', 'age' : 24},\n",
    "    {'name' : 'Annu', 'age' : 14},\n",
    "    {'name' : 'Harshita', 'age' : 20}\n",
    "]\n",
    "\n",
    "def age_greater_14(person):\n",
    "    return person['age']>14\n",
    "\n",
    "list(filter(age_greater_14, people))"
   ]
  },
  {
   "cell_type": "code",
   "execution_count": 148,
   "metadata": {},
   "outputs": [
    {
     "data": {
      "text/plain": [
       "True"
      ]
     },
     "execution_count": 148,
     "metadata": {},
     "output_type": "execute_result"
    }
   ],
   "source": [
    "def age_greater_18(person):\n",
    "    return person['age']>18\n",
    "\n",
    "age_greater_18({\"name\" : \"shweta\", \"age\" : 25})"
   ]
  },
  {
   "cell_type": "code",
   "execution_count": null,
   "metadata": {},
   "outputs": [],
   "source": [
    "    "
   ]
  },
  {
   "cell_type": "code",
   "execution_count": null,
   "metadata": {},
   "outputs": [],
   "source": []
  },
  {
   "cell_type": "code",
   "execution_count": null,
   "metadata": {},
   "outputs": [],
   "source": []
  },
  {
   "cell_type": "code",
   "execution_count": null,
   "metadata": {},
   "outputs": [],
   "source": []
  },
  {
   "cell_type": "code",
   "execution_count": null,
   "metadata": {},
   "outputs": [],
   "source": []
  },
  {
   "cell_type": "code",
   "execution_count": null,
   "metadata": {},
   "outputs": [],
   "source": []
  }
 ],
 "metadata": {
  "kernelspec": {
   "display_name": "Python 3",
   "language": "python",
   "name": "python3"
  },
  "language_info": {
   "codemirror_mode": {
    "name": "ipython",
    "version": 3
   },
   "file_extension": ".py",
   "mimetype": "text/x-python",
   "name": "python",
   "nbconvert_exporter": "python",
   "pygments_lexer": "ipython3",
   "version": "3.12.6"
  }
 },
 "nbformat": 4,
 "nbformat_minor": 2
}
